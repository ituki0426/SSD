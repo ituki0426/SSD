{
 "cells": [
  {
   "cell_type": "code",
   "execution_count": 2,
   "metadata": {},
   "outputs": [],
   "source": [
    "import os.path as osp\n",
    "import numpy as np\n",
    "def make_filepath_list(rootpath):\n",
    "    imgpath_template = osp.join(rootpath, 'JPEGImages', '%s.jpg')\n",
    "    annopath_template = osp.join(rootpath, 'Annotations', '%s.xml')\n",
    "\n",
    "    train_id_names = osp.join(rootpath, 'ImageSets', 'Main', 'train.txt')\n",
    "    val_id_names = osp.join(rootpath, 'ImageSets', 'Main', 'val.txt')\n",
    "\n",
    "    train_id_list = list()\n",
    "    train_anno_list = list()\n",
    "\n",
    "    for line in open(train_id_names):\n",
    "        file_id = line.strip()\n",
    "        img_path = (imgpath_template % file_id)\n",
    "        anno_path = (annopath_template % file_id)\n",
    "        train_id_list.append(img_path)\n",
    "        train_anno_list.append(anno_path)\n",
    "    \n",
    "    val_id_list = list()\n",
    "    val_anno_list = list()\n",
    "\n",
    "    for line in open(val_id_names):\n",
    "        file_id = line.strip()\n",
    "        img_path = (imgpath_template % file_id)\n",
    "        anno_path = (annopath_template % file_id)\n",
    "        val_id_list.append(img_path)\n",
    "        val_anno_list.append(anno_path)\n",
    "    return train_id_list, train_anno_list, val_id_list, val_anno_list"
   ]
  },
  {
   "cell_type": "code",
   "execution_count": 3,
   "metadata": {},
   "outputs": [
    {
     "name": "stdout",
     "output_type": "stream",
     "text": [
      "./data/VOCdevkit/VOC2012/JPEGImages/2008_000008.jpg\n",
      "./data/VOCdevkit/VOC2012/Annotations/2008_000008.xml\n",
      "./data/VOCdevkit/VOC2012/JPEGImages/2008_000002.jpg\n",
      "./data/VOCdevkit/VOC2012/Annotations/2008_000002.xml\n"
     ]
    }
   ],
   "source": [
    "rootpath = './data/VOCdevkit/VOC2012'\n",
    "tr_img, tr_anno, val_img, val_anno = make_filepath_list(rootpath)\n",
    "print(tr_img[0])\n",
    "print(tr_anno[0])\n",
    "print(val_img[0])\n",
    "print(val_anno[0])"
   ]
  },
  {
   "cell_type": "code",
   "execution_count": 6,
   "metadata": {},
   "outputs": [],
   "source": [
    "import xml.etree.ElementTree as ElementTree\n",
    "import numpy as np\n",
    "class GetBBoxAndLabel(object):\n",
    "    def __init__(self,classes):\n",
    "        self.classes = classes\n",
    "    def __call__(self, xml_path, width,height):\n",
    "        annotaion = []\n",
    "        xml = ElementTree.parse(xml_path).getroot()\n",
    "        for obj in xml.iter('object'):\n",
    "            difficult = int(obj.find('difficult').text)\n",
    "            if difficult == 1:\n",
    "                continue\n",
    "            bndbox = []\n",
    "            name = obj.find('name').text.lower().strip()\n",
    "            bbox = obj.find('bndbox')\n",
    "            grid = ['xmin', 'ymin', 'xmax', 'ymax']\n",
    "            for gr in (grid):\n",
    "                axis_value = int(bbox.find(gr).text)\n",
    "                if gr == 'xmin' or gr == 'xmax':\n",
    "                    axis_value = axis_value / width\n",
    "                else:\n",
    "                    axis_value = axis_value / height\n",
    "                bndbox.append(axis_value)\n",
    "            label_idx = self.classes.index(name)\n",
    "            bndbox.append(label_idx)\n",
    "            annotaion.append(bndbox)\n",
    "        return np.array(annotaion)"
   ]
  },
  {
   "cell_type": "code",
   "execution_count": 19,
   "metadata": {},
   "outputs": [
    {
     "data": {
      "text/plain": [
       "array([[ 0.092     ,  0.03303303,  1.        ,  1.        , 18.        ],\n",
       "       [ 0.124     ,  0.57057057,  0.166     ,  0.72972973, 14.        ]])"
      ]
     },
     "execution_count": 19,
     "metadata": {},
     "output_type": "execute_result"
    }
   ],
   "source": [
    "import cv2\n",
    "voc_labels = [\n",
    "    'aeroplane', 'bicycle', 'bird', 'boat', 'bottle', 'bus', 'car', 'cat',\n",
    "    'chair', 'cow', 'diningtable', 'dog', 'horse', 'motorbike', 'person',\n",
    "    'pottedplant', 'sheep', 'sofa', 'train', 'tvmonitor'\n",
    "]\n",
    "annotaion = GetBBoxAndLabel(voc_labels)\n",
    "index = 1\n",
    "img_path = val_img[index]\n",
    "img = cv2.imread(img_path)\n",
    "height, width, _ = img.shape\n",
    "annotaion(val_anno[index], width, height)"
   ]
  }
 ],
 "metadata": {
  "kernelspec": {
   "display_name": "Python 3",
   "language": "python",
   "name": "python3"
  },
  "language_info": {
   "codemirror_mode": {
    "name": "ipython",
    "version": 3
   },
   "file_extension": ".py",
   "mimetype": "text/x-python",
   "name": "python",
   "nbconvert_exporter": "python",
   "pygments_lexer": "ipython3",
   "version": "3.10.4"
  },
  "orig_nbformat": 4,
  "vscode": {
   "interpreter": {
    "hash": "3ad933181bd8a04b432d3370b9dc3b0662ad032c4dfaa4e4f1596c548f763858"
   }
  }
 },
 "nbformat": 4,
 "nbformat_minor": 2
}
